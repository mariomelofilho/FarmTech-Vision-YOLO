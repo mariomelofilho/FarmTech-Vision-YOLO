{
 "cells": [
  {
   "cell_type": "markdown",
   "metadata": {
    "id": "header"
   },
   "source": [
    "# 🎯 FarmTech Vision Solutions - Sistema de Detecção com YOLOv5\n",
    "\n",
    "**Projeto:** Fase 6 - Redes Neurais e Visão Computacional  \n",
    "**Aluna:** Stephanie  \n",
    "**RM:** 564315  \n",
    "**Curso:** Inteligência Artificial - FIAP  \n",
    "**Data:** 2024  \n",
    "\n",
    "---\n",
    "\n",
    "## 📋 **Objetivos do Projeto**\n",
    "\n",
    "Este notebook implementa um sistema completo de visão computacional usando **YOLOv5** para detecção de:\n",
    "- **🚗 Veículos** (carros, motos, caminhões)\n",
    "- **🚶 Pedestres** (pessoas caminhando)\n",
    "\n",
    "### **Experimentos Planejados:**\n",
    "1. **Treinamento com 30 épocas**\n",
    "2. **Treinamento com 60 épocas**\n",
    "3. **Análise comparativa de performance**\n",
    "\n",
    "### **Métricas de Avaliação:**\n",
    "- Precision, Recall, F1-Score\n",
    "- mAP@0.5 e mAP@0.5:0.95\n",
    "- Tempo de treinamento e inferência\n",
    "\n",
    "---"
   ]
  },
  {
   "cell_type": "markdown",
   "metadata": {
    "id": "theory"
   },
   "source": [
    "## 🧠 **Fundamentação Teórica**\n",
    "\n",
    "### **YOLO (You Only Look Once)**\n",
    "\n",
    "O YOLO revolucionou a detecção de objetos ao tratar o problema como uma **única regressão end-to-end**, diferente dos métodos tradicionais de duas etapas.\n",
    "\n",
    "#### **Principais Inovações:**\n",
    "\n",
    "1. **Arquitetura Unificada**: Uma única rede neural prediz simultaneamente:\n",
    "   - Coordenadas das bounding boxes\n",
    "   - Probabilidades de classe\n",
    "   - Scores de confiança\n",
    "\n",
    "2. **Processamento Global**: Analisa a imagem inteira de uma vez, capturando contexto global\n",
    "\n",
    "3. **Velocidade**: Capaz de processar imagens em tempo real (>30 FPS)\n",
    "\n",
    "#### **YOLOv5 - Arquitetura Detalhada:**\n",
    "\n",
    "- **Backbone**: CSPDarknet53 para extração de features hierárquicas\n",
    "- **Neck**: PANet (Path Aggregation Network) para fusão multi-escala\n",
    "- **Head**: Três camadas de detecção para diferentes escalas de objetos\n",
    "\n",
    "#### **Função de Perda Multi-objetivo:**\n",
    "\n",
    "```\n",
    "Loss_total = λ_box × Loss_box + λ_obj × Loss_obj + λ_cls × Loss_cls\n",
    "```\n",
    "\n",
    "Onde:\n",
    "- **Loss_box**: Erro de localização (coordenadas)\n",
    "- **Loss_obj**: Erro de objetividade (confiança)\n",
    "- **Loss_cls**: Erro de classificação\n",
    "\n",
    "### **Referências Acadêmicas:**\n",
    "\n",
    "1. **Redmon, J., et al. (2016)**. "You Only Look Once: Unified, Real-Time Object Detection." *CVPR*.\n",
    "2. **Bochkovskiy, A., et al. (2020)**. "YOLOv4: Optimal Speed and Accuracy of Object Detection." *arXiv*.\n",
    "3. **Jocher, G., et al. (2022)**. "ultralytics/yolov5: v7.0 - YOLOv5 SOTA Realtime Instance Segmentation."\n",
    "\n",
    "---"
   ]
  },
  {
   "cell_type": "markdown",
   "metadata": {
    "id": "setup"
   },
   "source": [
    "## ⚙️ **1. Configuração do Ambiente**\n",
    "\n",
    "Instalação das dependências necessárias para o projeto."
   ]
  },
  {
   "cell_type": "code",
   "execution_count": null,
   "metadata": {
    "id": "install_dependencies"
   },
   "outputs": [],
   "source": [
    "# Instalação das bibliotecas principais\n",
    "!pip install ultralytics\n",
    "!pip install roboflow\n",
    "!pip install opencv-python\n",
    "!pip install matplotlib seaborn plotly\n",
    "!pip install pandas numpy\n",
    "\n",
    "# Clonando o repositório YOLOv5 oficial\n",
    "!git clone https://github.com/ultralytics/yolov5\n",
    "%cd yolov5\n",
    "!pip install -r requirements.txt\n",
    "\n",
    "print("✅ Ambiente configurado com sucesso!")"
   ]
  },
  {
   "cell_type": "code",
   "execution_count": null,
   "metadata": {
    "id": "imports"
   },
   "outputs": [],
   "source": [
    "# Importações necessárias\n",
    "import torch\n",
    "import torchvision\n",
    "import cv2\n",
    "import numpy as np\n",
    "import pandas as pd\n",
    "import matplotlib.pyplot as plt\n",
    "import seaborn as sns\n",
    "from PIL import Image\n",
    "import os\n",
    "import yaml\n",
    "import time\n",
    "from pathlib import Path\n",
    "import shutil\n",
    "from google.colab import drive, files\n",
    "import zipfile\n",
    "import requests\n",
    "from IPython.display import display, HTML\n",
    "import warnings\n",
    "warnings.filterwarnings('ignore')\n",
    "\n",
    "# Configurações de visualização\n",
    "plt.style.use('seaborn-v0_8')\n",
    "sns.set_palette("husl")\n",
    "\n",
    "# Verificação do ambiente\n",
    "print(f"🔥 PyTorch Version: {torch.__version__}")\n",
    "print(f"🖥️  CUDA Available: {torch.cuda.is_available()}")\n",
    "print(f"🎯 Device: {torch.cuda.get_device_name(0) if torch.cuda.is_available() else 'CPU'}")\n",
    "print(f"📊 OpenCV Version: {cv2.__version__}")"
   ]
  },
  {
   "cell_type": "markdown",
   "metadata": {
    "id": "drive_setup"
   },
   "source": [
    "## 💾 **2. Configuração do Google Drive**\n",
    "\n",
    "Conectando ao Google Drive para acessar o dataset e salvar resultados."
   ]
  },
  {
   "cell_type": "code",
   "execution_count": null,
   "metadata": {
    "id": "mount_drive"
   },
   "outputs": [],
   "source": [
    "# Montando o Google Drive\n",
    "drive.mount('/content/drive')\n",
    "\n",
    "# Definindo caminhos do projeto\n",
    "PROJECT_PATH = '/content/drive/MyDrive/FarmTech_YOLO_Project'\n",
    "DATASET_PATH = f'{PROJECT_PATH}/dataset'\n",
    "RESULTS_PATH = f'{PROJECT_PATH}/results'\n",
    "\n",
    "# Criando estrutura de pastas\n",
    "os.makedirs(f'{DATASET_PATH}/train/images', exist_ok=True)\n",
    "os.makedirs(f'{DATASET_PATH}/train/labels', exist_ok=True)\n",
    "os.makedirs(f'{DATASET_PATH}/val/images', exist_ok=True)\n",
    "os.makedirs(f'{DATASET_PATH}/val/labels', exist_ok=True)\n",
    "os.makedirs(f'{DATASET_PATH}/test/images', exist_ok=True)\n",
    "os.makedirs(f'{DATASET_PATH}/test/labels', exist_ok=True)\n",
    "os.makedirs(f'{RESULTS_PATH}/experiment_30_epochs', exist_ok=True)\n",
    "os.makedirs(f'{RESULTS_PATH}/experiment_60_epochs', exist_ok=True)\n",
    "\n",
    "print("📁 Estrutura de pastas criada com sucesso!")\n",
    "print(f"📂 Dataset Path: {DATASET_PATH}")\n",
    "print(f"📊 Results Path: {RESULTS_PATH}")"
   ]
  },
  {
   "cell_type": "markdown",
   "metadata": {
    "id": "dataset_section"
   },
   "source": [
    "## 📊 **
